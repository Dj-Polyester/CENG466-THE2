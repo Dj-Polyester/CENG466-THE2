{
 "cells": [
  {
   "cell_type": "code",
   "execution_count": 1,
   "metadata": {},
   "outputs": [],
   "source": [
    "from the2 import *"
   ]
  },
  {
   "cell_type": "code",
   "execution_count": null,
   "metadata": {},
   "outputs": [],
   "source": [
    "medianSpectrum(\"THE2-Images/3.png\",\"THE2-Outputs/3.png\")"
   ]
  },
  {
   "cell_type": "code",
   "execution_count": 2,
   "metadata": {},
   "outputs": [],
   "source": [
    "# FT_img(\"THE2-Images/3.png\", \"FT-Outputs/3.png\")"
   ]
  },
  {
   "cell_type": "code",
   "execution_count": 3,
   "metadata": {},
   "outputs": [],
   "source": [
    "# createDenoiseImg(\"FT-Outputs/3_b.png\")"
   ]
  },
  {
   "cell_type": "code",
   "execution_count": 4,
   "metadata": {},
   "outputs": [],
   "source": [
    "# denoiseImg(\"THE2-Images/3.png\", Jesus((3036,3000), 10, 10),np.full((3036,3000),1),np.full((3036,3000),1), \"FT-Outputs/3.png\", \"THE2-Outputs/3.png\")"
   ]
  },
  {
   "cell_type": "code",
   "execution_count": 5,
   "metadata": {},
   "outputs": [],
   "source": [
    "# denoiseImg(\"THE2-Images/3.png\", denoise_path, FToutput_path, output_path)"
   ]
  },
  {
   "cell_type": "code",
   "execution_count": 6,
   "metadata": {},
   "outputs": [],
   "source": [
    "# denoiseImg(\"FT-Outputs/3_b.png\", \"FT-Outputs/3_b_denoise.png\")"
   ]
  },
  {
   "cell_type": "code",
   "execution_count": 7,
   "metadata": {},
   "outputs": [],
   "source": [
    "# invFT_img(\"FT-Outputs/3_r.png\", \"FT-Outputs/3_g.png\", \"FT-Outputs/3_b.png\", \"THE2-Outputs/3.png\")"
   ]
  },
  {
   "cell_type": "code",
   "execution_count": 8,
   "metadata": {},
   "outputs": [],
   "source": [
    "# part1(\"THE2-Images/1.png\", \"THE2-Outputs/1_l_100.png\")"
   ]
  },
  {
   "cell_type": "code",
   "execution_count": 9,
   "metadata": {},
   "outputs": [],
   "source": [
    "# def DFT_matrix(N):\n",
    "#     i, j = np.meshgrid(np.arange(N), np.arange(N))\n",
    "#     omega = np.exp( - 2 * np.pi * 1J / N )\n",
    "#     W = np.power( omega, i * j ) / np.sqrt(N)\n",
    "#     return W"
   ]
  }
 ],
 "metadata": {
  "interpreter": {
   "hash": "2aed36269b6eadcf6e64e26ed5ebdd38356be840c96fcafc2626c66fcc16032a"
  },
  "kernelspec": {
   "display_name": "Python 3.8.10 64-bit ('datascience': venv)",
   "language": "python",
   "name": "python3"
  },
  "language_info": {
   "codemirror_mode": {
    "name": "ipython",
    "version": 3
   },
   "file_extension": ".py",
   "mimetype": "text/x-python",
   "name": "python",
   "nbconvert_exporter": "python",
   "pygments_lexer": "ipython3",
   "version": "3.8.10"
  },
  "orig_nbformat": 4
 },
 "nbformat": 4,
 "nbformat_minor": 2
}
